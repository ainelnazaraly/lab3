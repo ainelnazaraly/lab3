{
 "cells": [
  {
   "cell_type": "markdown",
   "id": "61e38269",
   "metadata": {},
   "source": [
    "1 Define a class which has at least two methods: getString: to get a string from console input printString: to print the string in upper case.\n"
   ]
  },
  {
   "cell_type": "code",
   "execution_count": null,
   "id": "52e168ae",
   "metadata": {},
   "outputs": [],
   "source": [
    "class String: \n",
    "    def getString(self): \n",
    "        self.str=input()\n",
    "    def printString(self): \n",
    "        self.str=print(self.str.upper())\n",
    "str1=String()\n",
    "str1.getString()\n",
    "str1.printString()"
   ]
  },
  {
   "cell_type": "markdown",
   "id": "f680d664",
   "metadata": {},
   "source": [
    "2 Define a class named Shape and its subclass Square. The Square class has an init function which takes a length as argument. Both classes have a area function which can print the area of the shape where Shape's area is 0 by default.\n"
   ]
  },
  {
   "cell_type": "code",
   "execution_count": null,
   "id": "b385c17f",
   "metadata": {},
   "outputs": [],
   "source": [
    "class Shape: \n",
    "    def area(): \n",
    "        return 0 \n",
    "\n",
    "class Square(Shape): \n",
    "    def __init__(self , length): \n",
    "        self.length=length\n",
    "    def area(self, length): \n",
    "        return (self.length*self.length)\n",
    "\n",
    "print(Shape.area())\n",
    "a=int(input())\n",
    "obj=Square(a)\n",
    "print(obj.area(a))"
   ]
  },
  {
   "cell_type": "markdown",
   "id": "0570e286",
   "metadata": {},
   "source": [
    "3 Define a class named Rectangle which inherits from Shape class from task 2. Class instance can be constructed by a length and width. The Rectangle class has a method which can compute the area.\n"
   ]
  },
  {
   "cell_type": "code",
   "execution_count": null,
   "id": "c3bdc5ff",
   "metadata": {},
   "outputs": [],
   "source": [
    "class Shape: \n",
    "    def area(): \n",
    "        return 0\n",
    "\n",
    "class Rectangle(Shape): \n",
    "    def __init__(self, length, width): \n",
    "        self.length=length \n",
    "        self.width=width\n",
    "    def area(self, length, width): \n",
    "        return(self.length*self.width)\n",
    "\n",
    "print(Shape.area())\n",
    "a=int(input())\n",
    "b=int(input())\n",
    "rct1=Rectangle(a, b)\n",
    "print(rct1.area(a, b))\n"
   ]
  },
  {
   "cell_type": "markdown",
   "id": "a48e1862",
   "metadata": {},
   "source": [
    "4\n",
    "Write the definition of a Point class. Objects from this class should have a\n",
    "\n",
    "a method show to display the coordinates of the point\n",
    "a method move to change these coordinates\n",
    "a method dist that computes the distance between 2 points\n"
   ]
  },
  {
   "cell_type": "code",
   "execution_count": null,
   "id": "ba004140",
   "metadata": {},
   "outputs": [],
   "source": [
    "import math\n",
    "class Point: \n",
    "    def __init__(self, x, y): \n",
    "        self.x=x\n",
    "        self.y=y\n",
    "    def Show(self): \n",
    "        print({self.x, self.y})\n",
    "    def Move(self, k):\n",
    "        self.x+=k\n",
    "        self.y+=k\n",
    "        return [self.x, self.y]\n",
    "    def dist(self, x1, y1): \n",
    "        return math.sqrt((self.x-x1)**2+(self.y-y1)**2)\n",
    "    \n",
    "x=int(input())\n",
    "y=int(input())\n",
    "ob=Point(x, y)\n",
    "ob.Show()\n",
    "print(ob.Move(2))\n",
    "print(ob.dist(5, 2))"
   ]
  },
  {
   "cell_type": "markdown",
   "id": "00f3990c",
   "metadata": {},
   "source": [
    "5 Create a bank account class that has attributes owner, balance and two methods deposit and withdraw. Withdrawals may not exceed the available balance. \n",
    "Instantiate your class, make several deposits and withdrawals, and test to make sure the account can't be overdrawn."
   ]
  },
  {
   "cell_type": "code",
   "execution_count": null,
   "id": "3f12d867",
   "metadata": {},
   "outputs": [],
   "source": [
    "class Account: \n",
    "    def __init__(self, owner, balance): \n",
    "        self.owner=owner\n",
    "        self.balance=balance\n",
    "    def deposit(self, deposit1): \n",
    "        self.balance+=deposit1\n",
    "        return self.balance\n",
    "    def withdraw(self,withdraw1 ): \n",
    "        if withdraw1<self.balance:\n",
    "            self.balance-=withdraw1\n",
    "            return self.balance\n",
    "        else: return \"error\"\n",
    "    \n",
    "\n",
    "sm=Account(\"Ainel\", 1000)\n",
    "print(sm.deposit(500))\n",
    "print(sm.withdraw(1501))\n",
    "print(sm.withdraw(500))\n"
   ]
  },
  {
   "cell_type": "markdown",
   "id": "096022ea",
   "metadata": {},
   "source": [
    "6 Write a program which can filter prime numbers in a list by using filter function. Note: Use lambda to define anonymous functions."
   ]
  },
  {
   "cell_type": "code",
   "execution_count": null,
   "id": "6c0c53cb",
   "metadata": {},
   "outputs": [],
   "source": [
    "mlist=[2, 3, 6, 7, 5]\n",
    "\n",
    "def prime(num):\n",
    "    if num==1: return False \n",
    "    for i in range(2, num): \n",
    "        if num%i==0: return False \n",
    "    return True\n",
    "\n",
    "b=filter(lambda x:prime(x), mlist )\n",
    "print(list(b))"
   ]
  }
 ],
 "metadata": {
  "kernelspec": {
   "display_name": "Python 3 (ipykernel)",
   "language": "python",
   "name": "python3"
  },
  "language_info": {
   "codemirror_mode": {
    "name": "ipython",
    "version": 3
   },
   "file_extension": ".py",
   "mimetype": "text/x-python",
   "name": "python",
   "nbconvert_exporter": "python",
   "pygments_lexer": "ipython3",
   "version": "3.9.13"
  }
 },
 "nbformat": 4,
 "nbformat_minor": 5
}
