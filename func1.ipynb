{
 "cells": [
  {
   "cell_type": "markdown",
   "id": "c4bd5ee6",
   "metadata": {},
   "source": [
    "\"\"\"\n",
    "A recipe you are reading states how many grams you need for the ingredient. Unfortunately, your store only sells items in ounces. \n",
    "Create a function to convert grams to ounces. ounces = 28.3495231 * grams\n",
    "\"\"\""
   ]
  },
  {
   "cell_type": "code",
   "execution_count": null,
   "id": "3be62507",
   "metadata": {},
   "outputs": [],
   "source": [
    "def convert(num): \n",
    "    return num*28.3495231\n",
    "\n",
    "c=int(input())\n",
    "print(convert(c))"
   ]
  },
  {
   "cell_type": "markdown",
   "id": "82f4fab1",
   "metadata": {},
   "source": [
    "\"\"\"\n",
    "Read in a Fahrenheit temperature. Calculate and display the equivalent centigrade temperature. \n",
    "The following formula is used for the conversion: C = (5 / 9) * (F – 32)\n",
    "\"\"\""
   ]
  },
  {
   "cell_type": "code",
   "execution_count": null,
   "id": "c59e424d",
   "metadata": {},
   "outputs": [],
   "source": [
    "def centigrade(far): \n",
    "    return (5/9)*(far-32)\n",
    "\n",
    "far=int(input())\n",
    "print(centigrade(far))"
   ]
  },
  {
   "cell_type": "markdown",
   "id": "fac0fc7e",
   "metadata": {},
   "source": [
    "\"\"\"\n",
    "Write a program to solve a classic puzzle: We count 35 heads and 94 legs among the chickens and rabbits in a farm.\n",
    " How many rabbits and how many chickens do we have? create function: solve(numheads, numlegs):\n",
    "\"\"\""
   ]
  },
  {
   "cell_type": "code",
   "execution_count": null,
   "id": "9c96a9d6",
   "metadata": {},
   "outputs": [],
   "source": [
    "def solve(head, legs): \n",
    "    rabbit=(legs-2*head)/2\n",
    "    chicken=head-rabbit\n",
    "    return f\"rabbit: {rabbit}, chicken:{chicken}\"\n",
    "\n",
    "print(solve(35, 94))"
   ]
  },
  {
   "cell_type": "markdown",
   "id": "32d66a43",
   "metadata": {},
   "source": [
    "\"\"\"\n",
    "You are given list of numbers separated by spaces. Write a function filter_prime which will take \n",
    "list of numbers as an agrument and returns only prime numbers from the list.\n",
    "\"\"\""
   ]
  },
  {
   "cell_type": "code",
   "execution_count": null,
   "id": "07474c10",
   "metadata": {},
   "outputs": [],
   "source": [
    "def prime(n): \n",
    "    if n==1: return False\n",
    "    for i in range(2, n): \n",
    "        if n%i==0: \n",
    "            return False \n",
    "    return True\n",
    "\n",
    "def filter_prime(mylist): \n",
    "    primes=[ ]\n",
    "    for num in mylist: \n",
    "        if prime(num): primes.append(num) \n",
    "    return primes\n",
    "\n",
    "mylist=[2, 4 , 6 ,5 , 3 ,1 , 7]\n",
    "print(filter_prime(mylist))"
   ]
  },
  {
   "cell_type": "markdown",
   "id": "5389178c",
   "metadata": {},
   "source": [
    "\"\"\"\n",
    "Write a function that accepts string from user and print all permutations of that string.\n",
    "\"\"\""
   ]
  },
  {
   "cell_type": "code",
   "execution_count": null,
   "id": "3f9cc56b",
   "metadata": {},
   "outputs": [],
   "source": [
    "from itertools import permutations \n",
    "\n",
    "str1=str(input())\n",
    "\n",
    "def func(str1): \n",
    "    return list(permutations(str1, len(str1)))\n",
    "\n",
    "print(func(str1))"
   ]
  },
  {
   "cell_type": "markdown",
   "id": "3515efaa",
   "metadata": {},
   "source": [
    "\"\"\"\n",
    "    Write a function that accepts string from user, return a sentence with the words reversed. We are ready -> ready are We\n",
    "\"\"\""
   ]
  },
  {
   "cell_type": "code",
   "execution_count": null,
   "id": "cbc51afa",
   "metadata": {},
   "outputs": [],
   "source": [
    "\n",
    "def rev(str1):\n",
    "    txt=\" \"\n",
    "    x=str1.split()\n",
    "\n",
    "    for i in x[::-1]: \n",
    "        txt+=i+\" \"\n",
    "\n",
    "    print(txt)\n",
    "\n",
    "str1=input()\n",
    "rev(str1)\n"
   ]
  },
  {
   "cell_type": "markdown",
   "id": "33b639df",
   "metadata": {},
   "source": [
    "\"\"\"\n",
    "Given a list of ints, return True if the array contains a 3 next to a 3 somewhere.\n",
    "\"\"\""
   ]
  },
  {
   "cell_type": "code",
   "execution_count": null,
   "id": "a95e9a3f",
   "metadata": {},
   "outputs": [],
   "source": [
    "\n",
    "def has_33(nums): \n",
    "    for i in range(len(nums)-1): \n",
    "        if nums[i]==3 and nums[i+1]==3: \n",
    "            return True \n",
    "    return False \n",
    "\n",
    "list=[2 , 3 , 3]\n",
    "list1=[2 , 1 , 3]\n",
    "list2=[3, 1, 3]\n",
    "print(has_33(list))\n",
    "print(has_33(list1))\n",
    "print(has_33(list2))"
   ]
  },
  {
   "cell_type": "markdown",
   "id": "654a16f4",
   "metadata": {},
   "source": [
    "\"\"\"\n",
    "Write a function that takes in a list of integers and returns True if it contains 007 in order\n",
    "\"\"\""
   ]
  },
  {
   "cell_type": "code",
   "execution_count": null,
   "id": "667bc715",
   "metadata": {},
   "outputs": [],
   "source": [
    "def spy_game(nums): \n",
    "    for i in range(len(nums)-1): \n",
    "        if nums[i]==0 and nums[i+1]==0 and nums[i+2]==7: \n",
    "            return True \n",
    "    return False\n",
    "\n",
    "list1=[2, 4 , 5 , 0 , 0 , 8 ]\n",
    "print(spy_game(list1))"
   ]
  },
  {
   "cell_type": "markdown",
   "id": "026f9a90",
   "metadata": {},
   "source": [
    "\"\"\"\n",
    "Write a function that computes the volume of a sphere given its radius.\n",
    "\"\"\""
   ]
  },
  {
   "cell_type": "code",
   "execution_count": null,
   "id": "d8844900",
   "metadata": {},
   "outputs": [],
   "source": [
    "import math \n",
    "def vol(rad): \n",
    "    return ((4/3)*math.pi*(rad**3))\n",
    "\n",
    "print(vol(2))"
   ]
  },
  {
   "cell_type": "markdown",
   "id": "7faf8f07",
   "metadata": {},
   "source": [
    "\"\"\"\n",
    "Write a Python function that takes a list and returns a new list with unique elements of the first list. Note: don't use collection set.\n",
    "\"\"\""
   ]
  },
  {
   "cell_type": "code",
   "execution_count": null,
   "id": "5a99876d",
   "metadata": {},
   "outputs": [],
   "source": [
    "def unq(nums):\n",
    "    res = dict()\n",
    "    for item in nums:\n",
    "        res[item] = 0\n",
    "    for item in nums:\n",
    "        res[item] += 1\n",
    "    output = []\n",
    "    for key,value in res.items():\n",
    "        if value == 1:\n",
    "            output.append(key)\n",
    "    return output\n",
    "\n",
    "\n",
    "print(unq([1,2,3,1,2,4,3,4,5,6]))"
   ]
  },
  {
   "cell_type": "markdown",
   "id": "2485cecf",
   "metadata": {},
   "source": [
    "\"\"\"\n",
    "Write a Python function that checks whether a word or phrase is palindrome or not. Note: \n",
    "A palindrome is word, phrase, or sequence that reads the same backward as forward, e.g., madam\n",
    "\"\"\"\n"
   ]
  },
  {
   "cell_type": "code",
   "execution_count": null,
   "id": "59d6aeab",
   "metadata": {},
   "outputs": [],
   "source": [
    "\n",
    "def ispal(str): \n",
    "    str1=str[::-1]\n",
    "    if str1==str: \n",
    "        return True \n",
    "    return False\n",
    "\n",
    "str=input()\n",
    "print(ispal(str))"
   ]
  },
  {
   "cell_type": "markdown",
   "id": "0adab557",
   "metadata": {},
   "source": [
    "\"\"\"\n",
    "Define a functino histogram() that takes a list of integers and prints a histogram to the screen. \n",
    "For example, histogram([4, 9, 7]) should print the following:\n",
    "\"\"\"\n"
   ]
  },
  {
   "cell_type": "code",
   "execution_count": null,
   "id": "c147fb6e",
   "metadata": {},
   "outputs": [],
   "source": [
    "def histogram(list): \n",
    "    for x in list: \n",
    "        for i in range(x): \n",
    "            print('*', end='')\n",
    "        print(\" \")\n",
    "\n",
    "list1=[1, 2 , 3]\n",
    "histogram(list1)"
   ]
  },
  {
   "cell_type": "markdown",
   "id": "3b14cccf",
   "metadata": {},
   "source": [
    "\"\"\"\n",
    "Write a program able to play the \"Guess the number\" - \n",
    "game, where the number to be guessed is randomly chosen between 1 and 20. This is how it should work when run in a terminal:\n",
    "\"\"\""
   ]
  },
  {
   "cell_type": "code",
   "execution_count": null,
   "id": "b7e04e72",
   "metadata": {},
   "outputs": [],
   "source": [
    "import random\n",
    "\n",
    "print(\"Hello! What is your name?\")\n",
    "name=input()\n",
    "\n",
    "print(f\"Well, {name}, I am thinking of a number between 1 and 20. \\nTake a guess.\")\n",
    "rand=random.randint(1, 20)\n",
    "cnt=0\n",
    "\n",
    "while(True): \n",
    "    k=int(input())\n",
    "    cnt+=1\n",
    "    if(k>rand): \n",
    "        print(\"Your guess is too high. \\n Take a guess.\")\n",
    "    elif(k<rand): \n",
    "        print(\"Your guess is too low. \\nTake a guess.\")\n",
    "    elif k==rand: \n",
    "        print(f\"Good job, {name}! You guessed my number in {cnt} guesses!\")"
   ]
  }
 ],
 "metadata": {
  "kernelspec": {
   "display_name": "Python 3 (ipykernel)",
   "language": "python",
   "name": "python3"
  },
  "language_info": {
   "codemirror_mode": {
    "name": "ipython",
    "version": 3
   },
   "file_extension": ".py",
   "mimetype": "text/x-python",
   "name": "python",
   "nbconvert_exporter": "python",
   "pygments_lexer": "ipython3",
   "version": "3.9.13"
  }
 },
 "nbformat": 4,
 "nbformat_minor": 5
}
